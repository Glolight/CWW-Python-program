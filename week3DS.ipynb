{
  "nbformat": 4,
  "nbformat_minor": 0,
  "metadata": {
    "colab": {
      "provenance": [],
      "toc_visible": true,
      "include_colab_link": true
    },
    "kernelspec": {
      "name": "python3",
      "display_name": "Python 3"
    },
    "language_info": {
      "name": "python"
    }
  },
  "cells": [
    {
      "cell_type": "markdown",
      "metadata": {
        "id": "view-in-github",
        "colab_type": "text"
      },
      "source": [
        "<a href=\"https://colab.research.google.com/github/Glolight/CWW-Python-program/blob/main/week3DS.ipynb\" target=\"_parent\"><img src=\"https://colab.research.google.com/assets/colab-badge.svg\" alt=\"Open In Colab\"/></a>"
      ]
    },
    {
      "cell_type": "markdown",
      "source": [
        "## List Data Structure\n"
      ],
      "metadata": {
        "id": "x0sTSbBL3Fz5"
      }
    },
    {
      "cell_type": "code",
      "execution_count": null,
      "metadata": {
        "id": "qwZ7SusB3DzO"
      },
      "outputs": [],
      "source": [
        "# create a list\n",
        "my_list = [1, 2, 4, 5]\n",
        "\n",
        "           0  1  2  3\n",
        "my_list = [4, 2, 1, 5]\n",
        "\n",
        "another_list = [1, 2, 3, 4]"
      ]
    },
    {
      "cell_type": "code",
      "source": [
        "# Indexing a list\n",
        "len_of_list = len(my_list)\n",
        "print(len_of_list)\n",
        "# print(len_of_list)\n",
        "list_range = range(4)\n",
        "# help(range)\n",
        "print(list(list_range))\n",
        "new_list = []\n",
        "# simple interations is\n",
        "# for i in range(len_of_list):\n",
        "#     print(i)\n",
        "#     if my_list[i] == 4:\n",
        "#         print(\"You caught me\")\n",
        "#         pass\n",
        "#     else:\n",
        "#         new_list.append(my_list[i])\n",
        "\n",
        "for data in my_list:\n",
        "    print(data)\n",
        "\n",
        "print(data)\n",
        "# print(new_list)\n"
      ],
      "metadata": {
        "id": "OYp2Q4ho3YV6",
        "colab": {
          "base_uri": "https://localhost:8080/"
        },
        "outputId": "f6e53b50-0471-4728-ea10-abc3b88c8491"
      },
      "execution_count": null,
      "outputs": [
        {
          "output_type": "stream",
          "name": "stdout",
          "text": [
            "4\n",
            "[0, 1, 2, 3]\n",
            "1\n",
            "2\n",
            "4\n",
            "5\n",
            "5\n"
          ]
        }
      ]
    },
    {
      "cell_type": "code",
      "source": [
        "# Unpacking a list\n",
        "students_names = [\"Name1\", \"Name2\", \"Name3\", \"Name4\"]\n",
        "student_1, student_2, student_3, student_4 = students_names\n",
        "print(student_1)\n"
      ],
      "metadata": {
        "colab": {
          "base_uri": "https://localhost:8080/"
        },
        "id": "xWFVQNKD3xTs",
        "outputId": "1b50db8b-6e18-4239-8d08-dd9e371bb287"
      },
      "execution_count": null,
      "outputs": [
        {
          "output_type": "stream",
          "name": "stdout",
          "text": [
            "Name1\n"
          ]
        }
      ]
    },
    {
      "cell_type": "code",
      "source": [
        "help(list)"
      ],
      "metadata": {
        "id": "zIjYJTUX0Mti"
      },
      "execution_count": null,
      "outputs": []
    },
    {
      "cell_type": "code",
      "source": [
        "# Removing Items from a list\n",
        "my_list = [4, 2, 1, 5, 3]\n"
      ],
      "metadata": {
        "colab": {
          "base_uri": "https://localhost:8080/"
        },
        "id": "ykYHJx_j4Aa7",
        "outputId": "b34f651a-f618-4c4d-9c79-448db716e864"
      },
      "execution_count": null,
      "outputs": [
        {
          "output_type": "stream",
          "name": "stdout",
          "text": [
            "[4, 2, 1, 5, 3]\n",
            "[3, 5, 1, 2, 4]\n"
          ]
        }
      ]
    },
    {
      "cell_type": "code",
      "source": [
        "# Retrieve index of an item ina list\n",
        "my_list = [1, 2, 3, 4, 5]\n",
        "index = my_list.index(3)\n",
        "print(index)"
      ],
      "metadata": {
        "colab": {
          "base_uri": "https://localhost:8080/"
        },
        "id": "tSyjMGfM4Xzw",
        "outputId": "b47aec6f-7570-4561-a3bc-91a4673cc7e3"
      },
      "execution_count": null,
      "outputs": [
        {
          "output_type": "stream",
          "name": "stdout",
          "text": [
            "2\n"
          ]
        }
      ]
    },
    {
      "cell_type": "code",
      "source": [
        "# Copying a list\n",
        "old_list = [1, 2, 3, 4, 5]\n",
        "new_list = old_list.copy()\n",
        "print(new_list)"
      ],
      "metadata": {
        "id": "vLWTvM-O4lQF"
      },
      "execution_count": null,
      "outputs": []
    },
    {
      "cell_type": "code",
      "source": [
        "# check list methods\n"
      ],
      "metadata": {
        "id": "uIYO5fMe4qg_"
      },
      "execution_count": null,
      "outputs": []
    },
    {
      "cell_type": "code",
      "source": [],
      "metadata": {
        "id": "CM27A6B35eei"
      },
      "execution_count": null,
      "outputs": []
    },
    {
      "cell_type": "markdown",
      "source": [
        "## Tuples\n"
      ],
      "metadata": {
        "id": "5ZjHb3tRPvxG"
      }
    },
    {
      "cell_type": "code",
      "source": [
        "# difference between a tuple and a list\n",
        "\"\"\"\n",
        "- Mutability -> List\n",
        "- Memory effeciency -> Tuple\n",
        "- Performance -> Tuple\n",
        "- Security -> Tuple\n",
        "- Growth -> List\n",
        "\"\"\"\n",
        "\n",
        "\n"
      ],
      "metadata": {
        "id": "l51ZmERzP4Ka",
        "colab": {
          "base_uri": "https://localhost:8080/",
          "height": 35
        },
        "outputId": "321b7a2a-56d4-4209-9901-6802d3352b7a"
      },
      "execution_count": null,
      "outputs": [
        {
          "output_type": "execute_result",
          "data": {
            "text/plain": [
              "'\\n- Mutability -> List\\n- Memory effecient -> Tuple\\n'"
            ],
            "application/vnd.google.colaboratory.intrinsic+json": {
              "type": "string"
            }
          },
          "metadata": {},
          "execution_count": 4
        }
      ]
    },
    {
      "cell_type": "code",
      "source": [
        "list_of_data = [1, (1, 2, 4), 6]\n",
        "list_of_data[0] = 3\n",
        "print(list_of_data)\n",
        "\n",
        "the_tuple = list_of_data[1]\n",
        "print(the_tuple)\n"
      ],
      "metadata": {
        "colab": {
          "base_uri": "https://localhost:8080/",
          "height": 228
        },
        "id": "12mFAWlRKSfE",
        "outputId": "3a1150e1-97bd-4132-a3af-e44f54a51b4e"
      },
      "execution_count": null,
      "outputs": [
        {
          "output_type": "stream",
          "name": "stdout",
          "text": [
            "[3, (1, 2, 4), 6]\n",
            "(1, 2, 4)\n"
          ]
        },
        {
          "output_type": "error",
          "ename": "TypeError",
          "evalue": "'tuple' object does not support item assignment",
          "traceback": [
            "\u001b[0;31m---------------------------------------------------------------------------\u001b[0m",
            "\u001b[0;31mTypeError\u001b[0m                                 Traceback (most recent call last)",
            "\u001b[0;32m<ipython-input-3-99568a5f6f2b>\u001b[0m in \u001b[0;36m<cell line: 7>\u001b[0;34m()\u001b[0m\n\u001b[1;32m      5\u001b[0m \u001b[0mthe_tuple\u001b[0m \u001b[0;34m=\u001b[0m \u001b[0mlist_of_data\u001b[0m\u001b[0;34m[\u001b[0m\u001b[0;36m1\u001b[0m\u001b[0;34m]\u001b[0m\u001b[0;34m\u001b[0m\u001b[0;34m\u001b[0m\u001b[0m\n\u001b[1;32m      6\u001b[0m \u001b[0mprint\u001b[0m\u001b[0;34m(\u001b[0m\u001b[0mthe_tuple\u001b[0m\u001b[0;34m)\u001b[0m\u001b[0;34m\u001b[0m\u001b[0;34m\u001b[0m\u001b[0m\n\u001b[0;32m----> 7\u001b[0;31m \u001b[0mthe_tuple\u001b[0m\u001b[0;34m[\u001b[0m\u001b[0;36m0\u001b[0m\u001b[0;34m]\u001b[0m \u001b[0;34m=\u001b[0m \u001b[0;36m4\u001b[0m\u001b[0;34m\u001b[0m\u001b[0;34m\u001b[0m\u001b[0m\n\u001b[0m\u001b[1;32m      8\u001b[0m \u001b[0mprint\u001b[0m\u001b[0;34m(\u001b[0m\u001b[0mthe_tuple\u001b[0m\u001b[0;34m)\u001b[0m\u001b[0;34m\u001b[0m\u001b[0;34m\u001b[0m\u001b[0m\n",
            "\u001b[0;31mTypeError\u001b[0m: 'tuple' object does not support item assignment"
          ]
        }
      ]
    },
    {
      "cell_type": "code",
      "source": [
        "# create a tuple\n",
        "my_first_tuple = (1, 4, 6, (3, 5))\n",
        "print(my_first_tuple)\n",
        "# this is just getting sub item list of the tuple data structure\n",
        "my_first_tuple[3][0] = 2\n",
        "print(my_first_tuple)\n",
        "\n",
        "\n",
        "# created_tuple = (1, 2, 3, 4, 5)\n",
        "# convert_list = list(created_tuple)\n",
        "# convert_list.append(6)\n",
        "# print(convert_list)"
      ],
      "metadata": {
        "colab": {
          "base_uri": "https://localhost:8080/"
        },
        "id": "TWI9teBRQBtR",
        "outputId": "a5ea78b6-c8c4-4405-f12e-c08f326e5a66"
      },
      "execution_count": null,
      "outputs": [
        {
          "output_type": "stream",
          "name": "stdout",
          "text": [
            "(1, 4, 6, (3, 5))\n",
            "(1, 4, 6, (3, 5))\n"
          ]
        }
      ]
    },
    {
      "cell_type": "code",
      "source": [
        "help(tuple)"
      ],
      "metadata": {
        "id": "q71UYTY3QZ2P"
      },
      "execution_count": null,
      "outputs": []
    },
    {
      "cell_type": "code",
      "source": [
        "# accessing item in a tuple\n",
        "created_tuple = (1, 2, 2, 3, 4, 5)\n",
        "print(created_tuple[2])\n",
        "sliced_tuple = created_tuple[1:3]\n",
        "\n",
        "print(sliced_tuple)\n",
        "count_2 = sliced_tuple.count(2)\n",
        "print(count_2)"
      ],
      "metadata": {
        "id": "T2hICOobRKye",
        "colab": {
          "base_uri": "https://localhost:8080/"
        },
        "outputId": "c155b756-8c70-419b-cb25-3bd52efd3c7d"
      },
      "execution_count": null,
      "outputs": [
        {
          "output_type": "stream",
          "name": "stdout",
          "text": [
            "2\n",
            "(2, 2)\n",
            "2\n"
          ]
        }
      ]
    },
    {
      "cell_type": "code",
      "source": [
        "help(tuple)"
      ],
      "metadata": {
        "id": "jEZBAORnQFin"
      },
      "execution_count": null,
      "outputs": []
    },
    {
      "cell_type": "code",
      "source": [
        "# merging tuples\n",
        "tup_1 = (1, 2, 3)\n",
        "tup_2 = (1, 2, \"last\")\n",
        "tup_3 = tup_1 + tup_2\n",
        "print(tup_3)"
      ],
      "metadata": {
        "colab": {
          "base_uri": "https://localhost:8080/"
        },
        "id": "_1z1SE9JQgAl",
        "outputId": "8ac21f73-ea0a-4324-9b66-0d928bc3bd58"
      },
      "execution_count": null,
      "outputs": [
        {
          "output_type": "stream",
          "name": "stdout",
          "text": [
            "(1, 2, 3, 1, 2, 'last')\n"
          ]
        }
      ]
    },
    {
      "cell_type": "code",
      "source": [
        "# loop through a tuple\n",
        "len_tup_3 = len(tup_3)\n",
        "\n",
        "idx = len_tup_3 - 1\n",
        "print(tup_3[idx])\n",
        "# name = \"Ayobami\"\n",
        "# len_name = len(name)\n",
        "# print(len_name)\n",
        "for i in range(len_tup_3):\n",
        "    print(tup_3[i])\n"
      ],
      "metadata": {
        "id": "-M8FF1uAQ7Ub",
        "colab": {
          "base_uri": "https://localhost:8080/"
        },
        "outputId": "30378b91-de45-4408-f5db-edd041e46e0b"
      },
      "execution_count": null,
      "outputs": [
        {
          "output_type": "stream",
          "name": "stdout",
          "text": [
            "last\n",
            "1\n",
            "2\n",
            "3\n",
            "1\n",
            "2\n",
            "last\n"
          ]
        }
      ]
    },
    {
      "cell_type": "code",
      "source": [
        "# get the len of a tuple"
      ],
      "metadata": {
        "id": "GXRViZDaRVGN"
      },
      "execution_count": null,
      "outputs": []
    },
    {
      "cell_type": "markdown",
      "source": [
        "## Sets"
      ],
      "metadata": {
        "id": "b3Wg3sbIRZDK"
      }
    },
    {
      "cell_type": "code",
      "source": [
        "# what is a set\n",
        "# set is a collection of unique items"
      ],
      "metadata": {
        "id": "yHwAwadCRcR_"
      },
      "execution_count": null,
      "outputs": []
    },
    {
      "cell_type": "code",
      "source": [
        "print(help(set))"
      ],
      "metadata": {
        "id": "xBi08A2hSQwn"
      },
      "execution_count": null,
      "outputs": []
    },
    {
      "cell_type": "code",
      "source": [
        "duplicates = [1, 2, 3, 4, 5, 1, 2, 3, 4, 5]\n",
        "print(duplicates)\n",
        "unique_items = set(duplicates)\n",
        "print(unique_items)\n",
        "\n"
      ],
      "metadata": {
        "colab": {
          "base_uri": "https://localhost:8080/"
        },
        "id": "pDiMgYIN92Jn",
        "outputId": "e38507a5-990c-415b-ef52-6bed8eb312ec"
      },
      "execution_count": null,
      "outputs": [
        {
          "output_type": "stream",
          "name": "stdout",
          "text": [
            "[1, 2, 3, 4, 5, 1, 2, 3, 4, 5]\n",
            "{1, 2, 3, 4, 5}\n"
          ]
        }
      ]
    },
    {
      "cell_type": "code",
      "source": [
        "# create a set\n",
        "set_1 = {1, 2, 3, 4, 5, 5}\n",
        "print(set_1)\n",
        "# set_2 = {3, 4, 5, 6, 7}\n",
        "\n",
        "# set_3 = set_1 ^ set_2\n",
        "# print(set_3)"
      ],
      "metadata": {
        "colab": {
          "base_uri": "https://localhost:8080/"
        },
        "id": "vXc2a1hvRf88",
        "outputId": "357c67ce-21f0-4661-990c-20233b565d47"
      },
      "execution_count": null,
      "outputs": [
        {
          "output_type": "stream",
          "name": "stdout",
          "text": [
            "{1, 2, 3, 4, 5}\n"
          ]
        }
      ]
    },
    {
      "cell_type": "markdown",
      "source": [
        "**PSet 1**:\n",
        "\n",
        "- Create A todolist containing your to daily Todos using either a list or\n",
        " a Tuple\n",
        "- Perform some operations for get a particular day todos one after the other, and add the add the operation that shows all your todos for the days accordingly.\n",
        "\n",
        "#####**Hints**:\n",
        "- Use an Iteration\n",
        "- Leverage the power of indexing"
      ],
      "metadata": {
        "id": "p94wgigDbnjK"
      }
    },
    {
      "cell_type": "code",
      "source": [
        "help(set)"
      ],
      "metadata": {
        "id": "hscLCI1mbkJh"
      },
      "execution_count": null,
      "outputs": []
    },
    {
      "cell_type": "code",
      "source": [
        "# basic set operations\n",
        "# Union | combination of two sets\n",
        "# Intersection &  intersection of 2 sets are set of items that exists in both sets\n",
        "# Difference - difference of set a and set b is whats in a and not in b\n",
        "# Symmetric Difference ^ set of elements in either sets but not in their intersection"
      ],
      "metadata": {
        "id": "atGy8gIqTs0g"
      },
      "execution_count": null,
      "outputs": []
    },
    {
      "cell_type": "code",
      "source": [
        "# last Session Recap\n",
        "# Challenge 1: Create a set that contatins five students name\n",
        "\n",
        "set_1 = {\"Ayo\", \"Femi\", \"Chika\", \"John\",\"Aliu\"}\n",
        "set_2 = {\"Dele\", \"Chika\"}\n",
        "\n",
        "intersection = set_1 & set_2\n",
        "print(intersection)\n",
        "\n",
        "\n",
        "\n",
        "\n",
        "\n",
        "# Challenge 2: Combine the 2 sets\n",
        "# set_3 = set_1.union(set_2)\n",
        "# print(set_3)\n",
        "\n",
        "# set_3 = set_1 | set_2\n",
        "# print(set_3)\n",
        "\n",
        "# # Challenge 3: Get the intersection of the 2 sets\n",
        "# set_3 = set_1 & set_2\n",
        "# print(set_3)\n",
        "# # or\n",
        "set_3 = set_1.intersection(set_2)\n",
        "print(set_3)\n"
      ],
      "metadata": {
        "colab": {
          "base_uri": "https://localhost:8080/"
        },
        "id": "QrHf9cyl6zNh",
        "outputId": "71ed29fd-5b2e-4142-8047-e95c894b7ecc"
      },
      "execution_count": null,
      "outputs": [
        {
          "output_type": "stream",
          "name": "stdout",
          "text": [
            "{'Chika'}\n"
          ]
        }
      ]
    },
    {
      "cell_type": "code",
      "source": [
        "new_set = set_2 - set_1\n",
        "print(new_set)"
      ],
      "metadata": {
        "colab": {
          "base_uri": "https://localhost:8080/"
        },
        "id": "EWILg3wybD2t",
        "outputId": "2f99401c-257d-466d-945d-27cf5af28565"
      },
      "execution_count": null,
      "outputs": [
        {
          "output_type": "stream",
          "name": "stdout",
          "text": [
            "{'Dele'}\n"
          ]
        }
      ]
    },
    {
      "cell_type": "code",
      "source": [
        "sym_diff = set_1 ^ set_2\n",
        "print(sym_diff)"
      ],
      "metadata": {
        "colab": {
          "base_uri": "https://localhost:8080/"
        },
        "id": "V7UXvdE6dYQM",
        "outputId": "eab43b89-c752-4b3a-bdd7-2e8ba63fc405"
      },
      "execution_count": null,
      "outputs": [
        {
          "output_type": "stream",
          "name": "stdout",
          "text": [
            "{'John', 'Dele', 'Ayo', 'Aliu', 'Femi'}\n"
          ]
        }
      ]
    },
    {
      "cell_type": "markdown",
      "source": [
        "## Dictionary aka Map"
      ],
      "metadata": {
        "id": "q9tC5meLlxa4"
      }
    },
    {
      "cell_type": "code",
      "source": [
        "print(help(dict))"
      ],
      "metadata": {
        "id": "nBxIOrEEm9Pw"
      },
      "execution_count": null,
      "outputs": []
    },
    {
      "cell_type": "code",
      "source": [
        "my_data = {\n",
        "    \"Name\": \"Ayo\", #(Name, Ayo)\n",
        "    \"Age\": 21,\n",
        "    \"Country\": \"Nigeria\",\n",
        "    \"Skills\": [\"Python\", \"Go\", \"Java\", \"JavaScript\"],\n",
        "    \"Projects\": (\"Project1\", \"Project2\"),\n",
        "    \"My_bio\": {\n",
        "        \"Name\": \"Ayo\",\n",
        "        \"Age\": 21,\n",
        "        \"Country\": \"Nigeria\"\n",
        "    }\n",
        "}\n",
        "\n",
        "\n",
        "# retrieve values of a dict\n",
        "my_name = my_data[\"Name\"]\n",
        "print(my_name)\n",
        "\n",
        "keys = my_data.keys()\n",
        "# # get the keys of a list\n",
        "print(list(keys))\n",
        "\n",
        "# # add new key-value to the dict\n",
        "my_data[\"DoesNotExist\"] = \"Ayobami\"\n",
        "print(my_data)\n",
        "\n",
        "# looping through a dictionary\n",
        "\n",
        "for key, val in my_data.items():\n",
        "    print(f\"My {key} is {val}\")\n",
        "\n",
        "for key in my_data.keys():\n",
        "    print(f\"My {key} is {my_data[key]}\")\n",
        "\n",
        "for val in my_data.values():\n",
        "    print(val)\n",
        "\n",
        "\n",
        "# # # delete key value pair in a dict\n",
        "# del my_data[\"DoesNotExist\"]\n",
        "# print(my_data)"
      ],
      "metadata": {
        "id": "INU2JCitgMCe"
      },
      "execution_count": null,
      "outputs": []
    },
    {
      "cell_type": "code",
      "source": [
        "# create a dict\n",
        "my_data = {\n",
        "    \"Name\": \"Ayo\",\n",
        "    \"Age\": 21,\n",
        "    \"Country\": \"Nigeria\",\n",
        "    \"Skills\": [\"Python\", \"Go\", \"Java\", \"JavaScript\"],\n",
        "    \"Projects\": (\"Project1\", \"Project2\"),\n",
        "    \"My_bio\": {\n",
        "        \"Name\": \"Ayo\",\n",
        "        \"Age\": 21,\n",
        "        \"Country\": \"Nigeria\"\n",
        "    }\n",
        "}\n",
        "\n",
        "# len of dict\n",
        "\n",
        "# retrieve values of a dict\n",
        "my_name = my_data.get(\"Name\")\n",
        "print(my_name)\n",
        "\n",
        "# keys = my_data.keys()\n",
        "# # get the keys of a list\n",
        "# print(list(keys))\n",
        "\n",
        "# add new key-value to the dict\n",
        "# my_data[\"Gender\"] = \"Male\"\n",
        "# print(my_data)\n",
        "\n",
        "# my_data[\"Name\"] = \"Ayobami\"\n",
        "# print(my_data)\n",
        "\n",
        "# check if key in dict\n",
        "my_data = {\n",
        "    \"Name\": \"Ayo\",\n",
        "    \"Age\": 21,\n",
        "    \"Country\": \"Nigeria\"\n",
        "}\n",
        "\n",
        "print(\"name\" in my_data)\n",
        "\n",
        "# # delete key value pair in a dict\n",
        "# del my_data[\"Country\"]\n",
        "print(my_data)\n",
        "\n",
        "# create a copy of a dict\n",
        "new_dict = my_data.copy()\n",
        "print(f\"This is my new data: {new_dict}\")\n",
        "\n",
        "# # get all values in a dict\n",
        "values = my_data.values()\n",
        "print(list(values))\n",
        "\n",
        "# get all items from a dict\n",
        "items = my_data.items()\n",
        "print(list(items))\n",
        "\n",
        "a, c = (3, 5)\n",
        "print(a, c)\n",
        "\n",
        "# loop through a dict to get the key and value\n",
        "for key, value in my_data.items():\n",
        "    print(f\"My {key} is {value}\")\n",
        "\n",
        "for val in my_data.values():\n",
        "    print(val)\n",
        "\n"
      ],
      "metadata": {
        "id": "L_Kn4eAAnm2X",
        "colab": {
          "base_uri": "https://localhost:8080/"
        },
        "outputId": "353a8a3c-4858-4160-e600-e3fe48539713"
      },
      "execution_count": null,
      "outputs": [
        {
          "output_type": "stream",
          "name": "stdout",
          "text": [
            "Ayo\n",
            "False\n",
            "{'Name': 'Ayo', 'Age': 21, 'Country': 'Nigeria'}\n",
            "This is my new data: {'Name': 'Ayo', 'Age': 21, 'Country': 'Nigeria'}\n",
            "['Ayo', 21, 'Nigeria']\n",
            "[('Name', 'Ayo'), ('Age', 21), ('Country', 'Nigeria')]\n",
            "3 5\n",
            "My Name is Ayo\n",
            "My Age is 21\n",
            "My Country is Nigeria\n",
            "Ayo\n",
            "21\n",
            "Nigeria\n"
          ]
        }
      ]
    },
    {
      "cell_type": "markdown",
      "source": [
        "## List Comprehension"
      ],
      "metadata": {
        "id": "E0So-EpEq21i"
      }
    },
    {
      "cell_type": "code",
      "source": [
        "# List Comprehension\n",
        "new_comp = [i for i in range(10)]\n",
        "\n",
        "# new_list = []\n",
        "# for i in range(10):\n",
        "#     new_list.append(i)\n",
        "print(new_comp)\n",
        "\n",
        "new_comp_2 = [i for i in range(10) if i % 2 == 0] # filters all even number\n",
        "print(new_comp_2)\n",
        "hold = []\n",
        "my_list = range(10)\n",
        "for j in my_list:\n",
        "    if j % 2 == 0:\n",
        "        hold.append(i)\n",
        "else:\n",
        "    pass\n",
        "\n",
        "print(f\"This hold: {hold}\")\n",
        "print(f\"This new comp: {new_comp_2}\")\n",
        "\n",
        "squared_list = [i**2 for i in range(10)]\n",
        "print(squared_list)\n",
        "\n",
        "nested_list = [[i for i in range(2)] for j in range(10)]\n",
        "print(nested_list)"
      ],
      "metadata": {
        "colab": {
          "base_uri": "https://localhost:8080/"
        },
        "id": "3tlF9oqdp-ii",
        "outputId": "ec077a1d-b378-4d8f-f239-f3ee16aa2e5c"
      },
      "execution_count": null,
      "outputs": [
        {
          "output_type": "stream",
          "name": "stdout",
          "text": [
            "[0, 1, 2, 3, 4, 5, 6, 7, 8, 9]\n",
            "[0, 2, 4, 6, 8]\n",
            "This hold: [0, 2, 4, 6, 8]\n",
            "This new comp: [0, 2, 4, 6, 8]\n",
            "[0, 1, 4, 9, 16, 25, 36, 49, 64, 81]\n",
            "[[0, 1], [0, 1], [0, 1], [0, 1], [0, 1], [0, 1], [0, 1], [0, 1], [0, 1], [0, 1]]\n"
          ]
        }
      ]
    },
    {
      "cell_type": "code",
      "source": [
        "# List comprehension with Lambda\n",
        "comp_with_lambda = [(lambda x: x**2)(x) for x in range(10)]\n",
        "print(comp_with_lambda)\n"
      ],
      "metadata": {
        "colab": {
          "base_uri": "https://localhost:8080/"
        },
        "id": "bojg0YDvrB6P",
        "outputId": "f40b8a1d-e494-46fd-be82-a5f0c86fb630"
      },
      "execution_count": null,
      "outputs": [
        {
          "output_type": "stream",
          "name": "stdout",
          "text": [
            "[0, 1, 4, 9, 16, 25, 36, 49, 64, 81]\n"
          ]
        }
      ]
    },
    {
      "cell_type": "code",
      "source": [
        "# Challenge 4: Create new list of your hobbies and print them out one after the other with their index\n",
        "hobbies = [\"Running\",  \"Gaming\", \"Swimming\", \"Coding\", \"Reading\", \"Sleeping\", \"Baking\"]\n",
        "\n",
        "for idx in range(len(hobbies)):\n",
        "    print(f\"Index {idx} - {hobbies[idx]}\")\n",
        "\n",
        "num = 0\n",
        "while num < len(hobbies):\n",
        "    print(f\"Index {num} - {hobbies[num]}\")\n",
        "    num += 1\n",
        "\n"
      ],
      "metadata": {
        "id": "eJ2xxY6_KB3u"
      },
      "execution_count": null,
      "outputs": []
    },
    {
      "cell_type": "markdown",
      "source": [
        "### Psets"
      ],
      "metadata": {
        "id": "iQPdjntFs1hW"
      }
    },
    {
      "cell_type": "markdown",
      "source": [
        "Pset4: Use a lamba expression to double each items in list of range 1 - 50 using List Comprehension"
      ],
      "metadata": {
        "id": "M-ZoEfH_nn8W"
      }
    },
    {
      "cell_type": "code",
      "source": [],
      "metadata": {
        "id": "nfdmqfPunnbc"
      },
      "execution_count": null,
      "outputs": []
    },
    {
      "cell_type": "markdown",
      "source": [
        "Pset2: Create a dictionary that contains your basic bio info, with must have property of skills which is a list of your skills"
      ],
      "metadata": {
        "id": "3tmgxTRes4j_"
      }
    },
    {
      "cell_type": "markdown",
      "source": [
        "Pset3: Loop through your bio dict and print the key and values to stdout, for skills, Make `Skills` as an heading and print all the skills out too.\n",
        "\n",
        "\n",
        "Structure of your output\n",
        "- My name is Ayo\n",
        "- My Age is 21\n",
        "- My Skils are:\n",
        "  - Python\n",
        "  - Go\n",
        "  - Java\n",
        "  - JavaScript\n"
      ],
      "metadata": {
        "id": "_U2PfHx7tt6A"
      }
    }
  ]
}